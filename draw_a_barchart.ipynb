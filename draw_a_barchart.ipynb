{
  "nbformat": 4,
  "nbformat_minor": 0,
  "metadata": {
    "colab": {
      "name": "draw a barchart.ipynb",
      "provenance": []
    },
    "kernelspec": {
      "name": "python3",
      "display_name": "Python 3"
    },
    "language_info": {
      "name": "python"
    }
  },
  "cells": [
    {
      "cell_type": "code",
      "source": [
        "import matplotlib.pyplot as plt\n",
        "import numpy as np"
      ],
      "metadata": {
        "id": "gdqsyKCKkO1C"
      },
      "execution_count": 2,
      "outputs": []
    },
    {
      "cell_type": "code",
      "execution_count": 15,
      "metadata": {
        "colab": {
          "base_uri": "https://localhost:8080/",
          "height": 281
        },
        "id": "KnUs33UkhgIo",
        "outputId": "950999d6-9bc7-4dee-c106-a1687c99f101"
      },
      "outputs": [
        {
          "output_type": "display_data",
          "data": {
            "image/png": "[encoded data removed]",
            "text/plain": [
              "<Figure size 432x288 with 1 Axes>"
            ]
          },
          "metadata": {
            "needs_background": "light"
          }
        }
      ],
      "source": [
        "# I suppose that the Numbers of switched English and Chinese Nouns, Adjectives, and Verbs are provided in Dictionary Object.\n",
        "#example \n",
        "#eng_number = { \"Nouns\":50, \"Adjectives\":14, \"Verbs\":30}\n",
        "#chin_number = { \"Nouns\":37, \"Adjectives\":16, \"Verbs\":10}\n",
        "\n",
        "\n",
        "left = np.array([1, 2])\n",
        "labels = [\"English\", \"Chinese\"]\n",
        "nouns_bar = np.array([eng_number[\"Nouns\"], chin_number[\"Nouns\"]])\n",
        "adjs_bar = np.array([eng_number[\"Adjectives\"], chin_number[\"Adjectives\"]])\n",
        "verbs_bar = np.array([eng_number[\"Verbs\"], chin_number[\"Verbs\"]])\n",
        "p1 = plt.bar(left, nouns_bar, color=\"green\", tick_label = labels)\n",
        "p2 = plt.bar(left, adjs_bar, bottom=nouns_bar, color=\"orange\")\n",
        "p3 = plt.bar(left, verbs_bar, bottom=adjs_bar+nouns_bar, color=\"red\")\n",
        "plt.legend((p1[0], p2[0], p3[0]), (\"Nouns\", \"Adjectives\", \"Verbs\"))\n",
        "plt.ylabel(\"Number of POS\")\n",
        "plt.title(\"The numbers of each POS in English and Chinese\")\n",
        "plt.show()"
      ]
    }
  ]
}